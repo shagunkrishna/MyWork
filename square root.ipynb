{
 "cells": [
  {
   "cell_type": "code",
   "execution_count": 16,
   "metadata": {},
   "outputs": [
    {
     "name": "stdout",
     "output_type": "stream",
     "text": [
      "enter any no3495\n",
      "square root is  60.0\n"
     ]
    }
   ],
   "source": [
    "x=float(input(\"enter any no\"))\n",
    "ans=0.0\n",
    "while ans**2<=x:\n",
    "    ans=ans+1\n",
    "    if ans**2==x:\n",
    "        break\n",
    "print(\"square root is \",ans)"
   ]
  },
  {
   "cell_type": "code",
   "execution_count": 17,
   "metadata": {},
   "outputs": [
    {
     "data": {
      "text/plain": [
       "3481"
      ]
     },
     "execution_count": 17,
     "metadata": {},
     "output_type": "execute_result"
    }
   ],
   "source": [
    "59*59"
   ]
  },
  {
   "cell_type": "code",
   "execution_count": 4,
   "metadata": {},
   "outputs": [
    {
     "name": "stdout",
     "output_type": "stream",
     "text": [
      "Enter num: 7\n",
      "\n",
      " Square root value is:  2.63\n"
     ]
    }
   ],
   "source": [
    "num = float(input(\"Enter num: \"))\n",
    "a = 1.0\n",
    "\n",
    "while(1):\n",
    "\tb = a*a\n",
    "\tif  num-0.1 < b < num+0.1 :\n",
    "\t\tbreak\n",
    "\telse:\n",
    "\t\tpass\n",
    "\ta = a + 0.01\n",
    "\n",
    "\n",
    "print(\"\\n Square root value is: \",round(a,2))"
   ]
  },
  {
   "cell_type": "code",
   "execution_count": null,
   "metadata": {},
   "outputs": [],
   "source": []
  }
 ],
 "metadata": {
  "kernelspec": {
   "display_name": "Python 3",
   "language": "python",
   "name": "python3"
  },
  "language_info": {
   "codemirror_mode": {
    "name": "ipython",
    "version": 3
   },
   "file_extension": ".py",
   "mimetype": "text/x-python",
   "name": "python",
   "nbconvert_exporter": "python",
   "pygments_lexer": "ipython3",
   "version": "3.7.6"
  }
 },
 "nbformat": 4,
 "nbformat_minor": 4
}
