{
 "cells": [
  {
   "cell_type": "code",
   "execution_count": 16,
   "metadata": {},
   "outputs": [
    {
     "name": "stdout",
     "output_type": "stream",
     "text": [
      "enter any no4\n",
      "2 2\n"
     ]
    }
   ],
   "source": [
    "x=int(input(\"enter any no\"))\n",
    "root=1\n",
    "pwr=1\n",
    "root1=0\n",
    "pwr1=0\n",
    "for pwr in range(1,6):\n",
    "    for root in range(0,x):\n",
    "        if root**pwr==x:\n",
    "            root1=root\n",
    "            pwr1=pwr\n",
    "            print(root,pwr)\n",
    "            break\n",
    "if root1**pwr1 != x:\n",
    "    print(\"No such pair exists\")\n",
    "    "
   ]
  },
  {
   "cell_type": "markdown",
   "metadata": {},
   "source": []
  },
  {
   "cell_type": "code",
   "execution_count": null,
   "metadata": {},
   "outputs": [],
   "source": []
  },
  {
   "cell_type": "code",
   "execution_count": null,
   "metadata": {},
   "outputs": [],
   "source": []
  }
 ],
 "metadata": {
  "kernelspec": {
   "display_name": "Python 3",
   "language": "python",
   "name": "python3"
  },
  "language_info": {
   "codemirror_mode": {
    "name": "ipython",
    "version": 3
   },
   "file_extension": ".py",
   "mimetype": "text/x-python",
   "name": "python",
   "nbconvert_exporter": "python",
   "pygments_lexer": "ipython3",
   "version": "3.7.6"
  }
 },
 "nbformat": 4,
 "nbformat_minor": 4
}
